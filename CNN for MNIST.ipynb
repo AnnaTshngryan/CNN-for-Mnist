{
 "cells": [
  {
   "cell_type": "code",
   "execution_count": 2,
   "metadata": {},
   "outputs": [],
   "source": [
    "import os \n",
    "import numpy as np\n",
    "import matplotlib.pyplot as plt "
   ]
  },
  {
   "cell_type": "code",
   "execution_count": 3,
   "metadata": {},
   "outputs": [],
   "source": [
    "import torch \n",
    "import torch.utils.data\n",
    "import torch.nn as nn \n",
    "import torch.optim as optim \n",
    "import torch.nn.functional as F\n",
    "from torch.autograd import Variable\n",
    "from torch.nn import init\n",
    "from torchvision import datasets, transforms, models, utils\n",
    "from tqdm import tqdm"
   ]
  },
  {
   "cell_type": "markdown",
   "metadata": {},
   "source": [
    "## CNN for MNIST"
   ]
  },
  {
   "cell_type": "code",
   "execution_count": 4,
   "metadata": {},
   "outputs": [],
   "source": [
    "#Training params \n",
    "batch_size = 64 \n",
    "num_epochs = 10\n",
    "learning_rate = 0.01\n",
    "dropout_p = 0.5\n",
    "log_interval = 10\n",
    "num_hidden_units = 50 \n",
    "num_classes = 10 \n",
    "image_size = 28"
   ]
  },
  {
   "cell_type": "code",
   "execution_count": 5,
   "metadata": {},
   "outputs": [
    {
     "name": "stdout",
     "output_type": "stream",
     "text": [
      "Downloading http://yann.lecun.com/exdb/mnist/train-images-idx3-ubyte.gz\n",
      "Downloading http://yann.lecun.com/exdb/mnist/train-labels-idx1-ubyte.gz\n",
      "Downloading http://yann.lecun.com/exdb/mnist/t10k-images-idx3-ubyte.gz\n",
      "Downloading http://yann.lecun.com/exdb/mnist/t10k-labels-idx1-ubyte.gz\n",
      "Processing...\n",
      "Done!\n"
     ]
    }
   ],
   "source": [
    "#Train Data Loaders \n",
    "train_loader = torch.utils.data.DataLoader(\n",
    "    datasets.MNIST(\"data/mnist\", train=True, download=True,\n",
    "                  transform=transforms.Compose([\n",
    "                      transforms.ToTensor(),\n",
    "                      transforms.Normalize((0.1307,),(0.3081,))\n",
    "                  ])),\n",
    "    batch_size=batch_size,shuffle=True)"
   ]
  },
  {
   "cell_type": "code",
   "execution_count": 6,
   "metadata": {},
   "outputs": [],
   "source": [
    "#Test Data Loaders \n",
    "test_loader = torch.utils.data.DataLoader(\n",
    "    datasets.MNIST(\"data/mnist\", train=False,\n",
    "                   transform=transforms.Compose([\n",
    "                      transforms.ToTensor(),\n",
    "                      transforms.Normalize((0.1307,),(0.3081,))\n",
    "                  ])),\n",
    "    batch_size=batch_size,shuffle=True)"
   ]
  },
  {
   "cell_type": "code",
   "execution_count": 7,
   "metadata": {},
   "outputs": [
    {
     "data": {
      "image/png": "[encoded data removed]",
      "text/plain": [
       "<Figure size 432x288 with 5 Axes>"
      ]
     },
     "metadata": {
      "needs_background": "light"
     },
     "output_type": "display_data"
    }
   ],
   "source": [
    "#Visualize some examples\n",
    "batch = next(iter(test_loader))\n",
    "samples = batch[0][:5]\n",
    "y_true = batch[1]\n",
    "for i, sample in enumerate(samples):\n",
    "    plt.subplot(1,5,i+1)\n",
    "    plt.title(\"Number:%i\" % y_true[i])\n",
    "    plt.imshow(sample.numpy().reshape((28,28)))\n",
    "    plt.axis(\"off\")"
   ]
  },
  {
   "cell_type": "code",
   "execution_count": 8,
   "metadata": {},
   "outputs": [],
   "source": [
    "#CNN model\n",
    "class CNN(nn.Module):\n",
    "    def __init__(self, dropout_p,num_hidden_units,num_classes):\n",
    "        super(CNN,self).__init__()\n",
    "        self.conv1=nn.Conv2d(1,10,kernel_size=5)\n",
    "        self.conv2 = nn.Conv2d(10,20,kernel_size=5)\n",
    "        self.dropout_conv2=nn.Dropout2d(dropout_p)\n",
    "        self.fc1 = nn.Linear(320,num_hidden_units)\n",
    "        self.fc2 = nn.Linear(num_hidden_units, num_classes)\n",
    "        \n",
    "    def forward(self,x):\n",
    "        x=F.relu(F.max_pool2d(self.conv1(x),2))\n",
    "        x= F.relu(F.max_pool2d(self.dropout_conv2(self.conv2(x)),2))\n",
    "        x=x.view(-1,320)\n",
    "        x=F.relu(self.fc1(x))\n",
    "        x=F.dropout(x,training=self.training)\n",
    "        x=self.fc2(x)\n",
    "        return x"
   ]
  },
  {
   "cell_type": "code",
   "execution_count": 9,
   "metadata": {},
   "outputs": [],
   "source": [
    "#Initialize model components \n",
    "model = CNN(dropout_p,num_hidden_units,num_classes)\n",
    "optimizer = optim.Adam(model.parameters(),lr=learning_rate)\n",
    "criterion = torch.nn.CrossEntropyLoss()"
   ]
  },
  {
   "cell_type": "code",
   "execution_count": 10,
   "metadata": {},
   "outputs": [],
   "source": [
    "from sklearn.metrics import classification_report"
   ]
  },
  {
   "cell_type": "code",
   "execution_count": 11,
   "metadata": {},
   "outputs": [],
   "source": [
    "examples = enumerate(test_loader)\n",
    "batch_idx, (example_data, example_targets) = next(examples)"
   ]
  },
  {
   "cell_type": "code",
   "execution_count": 12,
   "metadata": {},
   "outputs": [
    {
     "data": {
      "text/plain": [
       "torch.Size([64, 1, 28, 28])"
      ]
     },
     "execution_count": 12,
     "metadata": {},
     "output_type": "execute_result"
    }
   ],
   "source": [
    "example_data.shape"
   ]
  },
  {
   "cell_type": "code",
   "execution_count": 13,
   "metadata": {},
   "outputs": [],
   "source": [
    "data_size=len(train_loader.dataset)\n",
    "num_batches = data_size//batch_size"
   ]
  },
  {
   "cell_type": "code",
   "execution_count": 15,
   "metadata": {},
   "outputs": [],
   "source": [
    "def train():\n",
    "    model.train()\n",
    "    for epoch in range(num_epochs):\n",
    "        epoch_loss = 0\n",
    "        epoch_acc = 0\n",
    "        for X, y in tqdm(train_loader):\n",
    "            optimizer.zero_grad()\n",
    "            out = model(X)\n",
    "            loss = criterion(out, y)\n",
    "            loss.backward()\n",
    "            optimizer.step()\n",
    "            epoch_loss += loss.item() \n",
    "            predictions = torch.argmax(out, 1)\n",
    "            epoch_acc += torch.sum(predictions==y).item()\n",
    "        epoch_loss = epoch_loss/num_batches\n",
    "        epoch_acc = epoch_acc/data_size\n",
    "        print(f\"Epoch {epoch}:\")\n",
    "        print(\"ACC:\", epoch_acc, \"LOSS:\", epoch_loss)\n",
    "        #In the 2 lines below we save our model and optimizer,\n",
    "        #in order to load them again in the future. \n",
    "        #Just write your path inside \"\". \n",
    "        torch.save(model.state_dict(), \"trained/model.pth\")\n",
    "        torch.save(optimizer.state_dict(),'trained/optimizer.pth')\n",
    "if __name__ == \"__main__\": \n",
    "    train()"
   ]
  },
  {
   "cell_type": "code",
   "execution_count": 1,
   "metadata": {},
   "outputs": [],
   "source": [
    "state_dict1 = torch.load(\"trained/model.pth\")\n",
    "state_dict2 = torch.load(\"trained/optimizer.pth\")\n",
    "model.load_state_dict(state_dict1)\n",
    "optimizer.load_state_dict(state_dict2)\n",
    "def test():\n",
    "    model.eval()\n",
    "    acc = 0\n",
    "    y_hat = []\n",
    "    y_true = []\n",
    "    for X, y in tqdm(test_loader.dataset):\n",
    "        out = model(X)\n",
    "        predictions = torch.argmax(out, 1)\n",
    "        acc += torch.sum(predictions == y).item()\n",
    "        y_hat.append(predictions)\n",
    "        y_true.append(y)\n",
    "\n",
    "    y_hat = torch.cat(y_hat)\n",
    "    y_true = torch.cat(y_true)\n",
    "    acc = acc/len(test_loader.dataset)\n",
    "    print(acc)\n",
    "    print(classification_report(y_hat, y_true))\n",
    "\n",
    "\n",
    "if __name__ == \"__main__\":\n",
    "    test()"
   ]
  }
 ],
 "metadata": {
  "kernelspec": {
   "display_name": "Python 3",
   "language": "python",
   "name": "python3"
  },
  "language_info": {
   "codemirror_mode": {
    "name": "ipython",
    "version": 3
   },
   "file_extension": ".py",
   "mimetype": "text/x-python",
   "name": "python",
   "nbconvert_exporter": "python",
   "pygments_lexer": "ipython3",
   "version": "3.7.0"
  }
 },
 "nbformat": 4,
 "nbformat_minor": 2
}
